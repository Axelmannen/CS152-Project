{
 "cells": [
  {
   "cell_type": "code",
   "execution_count": 3,
   "metadata": {},
   "outputs": [
    {
     "ename": "ModuleNotFoundError",
     "evalue": "No module named 'transformers'",
     "output_type": "error",
     "traceback": [
      "\u001b[31m---------------------------------------------------------------------------\u001b[39m",
      "\u001b[31mModuleNotFoundError\u001b[39m                       Traceback (most recent call last)",
      "\u001b[36mCell\u001b[39m\u001b[36m \u001b[39m\u001b[32mIn[3]\u001b[39m\u001b[32m, line 1\u001b[39m\n\u001b[32m----> \u001b[39m\u001b[32m1\u001b[39m \u001b[38;5;28;01mfrom\u001b[39;00m\u001b[38;5;250m \u001b[39m\u001b[34;01mtransformers\u001b[39;00m\u001b[38;5;250m \u001b[39m\u001b[38;5;28;01mimport\u001b[39;00m pipeline\n\u001b[32m      2\u001b[39m \u001b[38;5;28;01mimport\u001b[39;00m\u001b[38;5;250m \u001b[39m\u001b[34;01mos\u001b[39;00m\n\u001b[32m      4\u001b[39m \u001b[38;5;66;03m# Load the model\u001b[39;00m\n",
      "\u001b[31mModuleNotFoundError\u001b[39m: No module named 'transformers'"
     ]
    }
   ],
   "source": [
    "from transformers import pipeline\n",
    "import os\n",
    "\n",
    "# Load the model\n",
    "pipe = pipeline('image-classification', model=\"prithivMLmods/Deep-Fake-Detector-Model\")  # seems to suck\n",
    "# pipe = pipeline(\"image-classification\", model=\"dima806/deepfake_vs_real_image_detection\")  # seems to work well\n",
    "# pipe = pipeline(\"image-classification\", model=\"Wvolf/ViT_Deepfake_Detection\")  # seems to work well\n",
    "\n",
    "# Predict on an image\n",
    "\n",
    "fake_images_dir = \"/scratch/users/axelw/CS152-Project/AI/fake/\"\n",
    "\n",
    "# Get all fake images\n",
    "fake_images = []\n",
    "for filename in os.listdir(fake_images_dir):\n",
    "    if filename.endswith(\".png\"):\n",
    "        fake_images.append(os.path.join(fake_images_dir, filename))\n",
    "\n",
    "# Get all real images\n",
    "real_images_dir = \"/scratch/users/axelw/CS152-Project/AI/real/\"\n",
    "real_images = []\n",
    "for filename in os.listdir(real_images_dir):\n",
    "    if filename.endswith(\".jpg\"):\n",
    "        real_images.append(os.path.join(real_images_dir, filename))\n",
    "\n",
    "# Predict on all fake images\n",
    "print(\"Predicting on fake images\")\n",
    "for fake_image in fake_images:\n",
    "    result = pipe(fake_image)\n",
    "    print(result)\n",
    "\n",
    "print(\"Predicting on real images\")\n",
    "# Predict on all real images\n",
    "for real_image in real_images:\n",
    "    result = pipe(real_image)\n",
    "    print(result)"
   ]
  }
 ],
 "metadata": {
  "kernelspec": {
   "display_name": "py313_env",
   "language": "python",
   "name": "python3"
  },
  "language_info": {
   "codemirror_mode": {
    "name": "ipython",
    "version": 3
   },
   "file_extension": ".py",
   "mimetype": "text/x-python",
   "name": "python",
   "nbconvert_exporter": "python",
   "pygments_lexer": "ipython3",
   "version": "3.13.2"
  }
 },
 "nbformat": 4,
 "nbformat_minor": 2
}
