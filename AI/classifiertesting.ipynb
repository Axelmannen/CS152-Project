{
 "cells": [
  {
   "cell_type": "code",
   "execution_count": 6,
   "metadata": {},
   "outputs": [
    {
     "name": "stderr",
     "output_type": "stream",
     "text": [
      "Device set to use cuda:0\n"
     ]
    },
    {
     "name": "stdout",
     "output_type": "stream",
     "text": [
      "[{'label': 'Fake', 'score': 0.9958252906799316}, {'label': 'Real', 'score': 0.004174696281552315}]\n",
      "[{'label': 'Fake', 'score': 0.8705645203590393}, {'label': 'Real', 'score': 0.1294354945421219}]\n",
      "[{'label': 'Fake', 'score': 0.9897640943527222}, {'label': 'Real', 'score': 0.010235863737761974}]\n",
      "[{'label': 'Fake', 'score': 0.9989388585090637}, {'label': 'Real', 'score': 0.0010611623292788863}]\n",
      "[{'label': 'Fake', 'score': 0.9979677796363831}, {'label': 'Real', 'score': 0.002032202435657382}]\n",
      "[{'label': 'Fake', 'score': 0.9599072337150574}, {'label': 'Real', 'score': 0.04009275138378143}]\n",
      "[{'label': 'Fake', 'score': 0.9982743263244629}, {'label': 'Real', 'score': 0.001725727808661759}]\n",
      "[{'label': 'Fake', 'score': 0.985886812210083}, {'label': 'Real', 'score': 0.014113228768110275}]\n",
      "[{'label': 'Fake', 'score': 0.9993278980255127}, {'label': 'Real', 'score': 0.0006720871897414327}]\n",
      "[{'label': 'Fake', 'score': 0.9989025592803955}, {'label': 'Real', 'score': 0.0010974172037094831}]\n",
      "[{'label': 'Fake', 'score': 0.9583378434181213}, {'label': 'Real', 'score': 0.04166219383478165}]\n",
      "[{'label': 'Fake', 'score': 0.9973708391189575}, {'label': 'Real', 'score': 0.0026291769463568926}]\n",
      "[{'label': 'Fake', 'score': 0.9989424347877502}, {'label': 'Real', 'score': 0.001057589310221374}]\n",
      "[{'label': 'Fake', 'score': 0.9965785145759583}, {'label': 'Real', 'score': 0.003421487519517541}]\n",
      "[{'label': 'Fake', 'score': 0.9569796323776245}, {'label': 'Real', 'score': 0.0430203452706337}]\n",
      "[{'label': 'Fake', 'score': 0.8091985583305359}, {'label': 'Real', 'score': 0.1908014416694641}]\n"
     ]
    }
   ],
   "source": [
    "from transformers import pipeline\n",
    "import os\n",
    "\n",
    "# Load the model\n",
    "# pipe = pipeline('image-classification', model=\"prithivMLmods/Deep-Fake-Detector-Model\", device=0)  # seems to suck\n",
    "# pipe = pipeline(\"image-classification\", model=\"dima806/deepfake_vs_real_image_detection\")  # seems to work\n",
    "pipe = pipeline(\"image-classification\", model=\"Wvolf/ViT_Deepfake_Detection\")  # seems to work ok \n",
    "\n",
    "# Predict on an image\n",
    "\n",
    "fake_images_dir = \"/scratch/users/axelw/CS152-Project/AI/fake/\"\n",
    "\n",
    "# Get all fake images\n",
    "fake_images = []\n",
    "for filename in os.listdir(fake_images_dir):\n",
    "    if filename.endswith(\".png\"):\n",
    "        fake_images.append(os.path.join(fake_images_dir, filename))\n",
    "\n",
    "# Get all real images\n",
    "real_images_dir = \"/scratch/users/axelw/CS152-Project/AI/real/\"\n",
    "real_images = []\n",
    "for filename in os.listdir(real_images_dir):\n",
    "    if filename.endswith(\".png\"):\n",
    "        real_images.append(os.path.join(real_images_dir, filename))\n",
    "\n",
    "# Predict on all fake images\n",
    "for fake_image in fake_images:\n",
    "    result = pipe(fake_image)\n",
    "    print(result)\n",
    "\n",
    "# Predict on all real images\n",
    "for real_image in real_images:\n",
    "    result = pipe(real_image)\n",
    "    print(result)"
   ]
  }
 ],
 "metadata": {
  "kernelspec": {
   "display_name": "cs152",
   "language": "python",
   "name": "python3"
  },
  "language_info": {
   "codemirror_mode": {
    "name": "ipython",
    "version": 3
   },
   "file_extension": ".py",
   "mimetype": "text/x-python",
   "name": "python",
   "nbconvert_exporter": "python",
   "pygments_lexer": "ipython3",
   "version": "3.13.2"
  }
 },
 "nbformat": 4,
 "nbformat_minor": 2
}
