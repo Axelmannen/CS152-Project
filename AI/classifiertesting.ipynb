{
 "cells": [
  {
   "cell_type": "code",
   "execution_count": 12,
   "metadata": {},
   "outputs": [
    {
     "name": "stderr",
     "output_type": "stream",
     "text": [
      "Device set to use cuda:0\n"
     ]
    },
    {
     "name": "stdout",
     "output_type": "stream",
     "text": [
      "Predicting on fake images\n",
      "[{'label': 'Real', 'score': 0.8148577213287354}, {'label': 'Fake', 'score': 0.18514230847358704}]\n",
      "[{'label': 'Real', 'score': 0.8487163782119751}, {'label': 'Fake', 'score': 0.15128369629383087}]\n",
      "[{'label': 'Real', 'score': 0.9036039113998413}, {'label': 'Fake', 'score': 0.0963960811495781}]\n",
      "[{'label': 'Real', 'score': 0.8378370404243469}, {'label': 'Fake', 'score': 0.1621629148721695}]\n",
      "[{'label': 'Real', 'score': 0.8671033978462219}, {'label': 'Fake', 'score': 0.13289664685726166}]\n",
      "[{'label': 'Real', 'score': 0.8369379639625549}, {'label': 'Fake', 'score': 0.16306208074092865}]\n",
      "[{'label': 'Real', 'score': 0.8303046822547913}, {'label': 'Fake', 'score': 0.16969531774520874}]\n",
      "[{'label': 'Real', 'score': 0.8887125849723816}, {'label': 'Fake', 'score': 0.11128736287355423}]\n",
      "[{'label': 'Real', 'score': 0.889940619468689}, {'label': 'Fake', 'score': 0.11005933582782745}]\n",
      "[{'label': 'Real', 'score': 0.9180552959442139}, {'label': 'Fake', 'score': 0.08194471150636673}]\n",
      "[{'label': 'Real', 'score': 0.736176609992981}, {'label': 'Fake', 'score': 0.26382341980934143}]\n",
      "[{'label': 'Real', 'score': 0.8747391700744629}, {'label': 'Fake', 'score': 0.12526078522205353}]\n",
      "[{'label': 'Real', 'score': 0.937677800655365}, {'label': 'Fake', 'score': 0.06232217326760292}]\n",
      "[{'label': 'Real', 'score': 0.8841731548309326}, {'label': 'Fake', 'score': 0.11582685261964798}]\n",
      "[{'label': 'Real', 'score': 0.8919828534126282}, {'label': 'Fake', 'score': 0.10801713913679123}]\n",
      "[{'label': 'Real', 'score': 0.9247676730155945}, {'label': 'Fake', 'score': 0.0752323716878891}]\n",
      "Predicting on real images\n",
      "[{'label': 'Real', 'score': 0.7724987268447876}, {'label': 'Fake', 'score': 0.22750124335289001}]\n",
      "[{'label': 'Fake', 'score': 0.881669282913208}, {'label': 'Real', 'score': 0.1183307021856308}]\n",
      "[{'label': 'Real', 'score': 0.597756564617157}, {'label': 'Fake', 'score': 0.40224340558052063}]\n",
      "[{'label': 'Fake', 'score': 0.6172147989273071}, {'label': 'Real', 'score': 0.38278523087501526}]\n",
      "[{'label': 'Real', 'score': 0.5769692063331604}, {'label': 'Fake', 'score': 0.4230307936668396}]\n",
      "[{'label': 'Fake', 'score': 0.5096966624259949}, {'label': 'Real', 'score': 0.4903033375740051}]\n",
      "[{'label': 'Real', 'score': 0.6274461150169373}, {'label': 'Fake', 'score': 0.37255385518074036}]\n",
      "[{'label': 'Real', 'score': 0.7041001319885254}, {'label': 'Fake', 'score': 0.2958998680114746}]\n",
      "[{'label': 'Fake', 'score': 0.9204730987548828}, {'label': 'Real', 'score': 0.07952693104743958}]\n",
      "[{'label': 'Real', 'score': 0.9011306166648865}, {'label': 'Fake', 'score': 0.09886936843395233}]\n",
      "[{'label': 'Real', 'score': 0.6926666498184204}, {'label': 'Fake', 'score': 0.3073333501815796}]\n",
      "[{'label': 'Real', 'score': 0.8885162472724915}, {'label': 'Fake', 'score': 0.11148378252983093}]\n",
      "[{'label': 'Real', 'score': 0.9241459965705872}, {'label': 'Fake', 'score': 0.07585399597883224}]\n"
     ]
    }
   ],
   "source": [
    "from transformers import pipeline\n",
    "import os\n",
    "\n",
    "# Load the model\n",
    "pipe = pipeline('image-classification', model=\"prithivMLmods/Deep-Fake-Detector-Model\")  # seems to suck\n",
    "# pipe = pipeline(\"image-classification\", model=\"dima806/deepfake_vs_real_image_detection\")  # seems to work well\n",
    "# pipe = pipeline(\"image-classification\", model=\"Wvolf/ViT_Deepfake_Detection\")  # seems to work well\n",
    "\n",
    "# Predict on an image\n",
    "\n",
    "fake_images_dir = \"/scratch/users/axelw/CS152-Project/AI/fake/\"\n",
    "\n",
    "# Get all fake images\n",
    "fake_images = []\n",
    "for filename in os.listdir(fake_images_dir):\n",
    "    if filename.endswith(\".png\"):\n",
    "        fake_images.append(os.path.join(fake_images_dir, filename))\n",
    "\n",
    "# Get all real images\n",
    "real_images_dir = \"/scratch/users/axelw/CS152-Project/AI/real/\"\n",
    "real_images = []\n",
    "for filename in os.listdir(real_images_dir):\n",
    "    if filename.endswith(\".jpg\"):\n",
    "        real_images.append(os.path.join(real_images_dir, filename))\n",
    "\n",
    "# Predict on all fake images\n",
    "print(\"Predicting on fake images\")\n",
    "for fake_image in fake_images:\n",
    "    result = pipe(fake_image)\n",
    "    print(result)\n",
    "\n",
    "print(\"Predicting on real images\")\n",
    "# Predict on all real images\n",
    "for real_image in real_images:\n",
    "    result = pipe(real_image)\n",
    "    print(result)"
   ]
  }
 ],
 "metadata": {
  "kernelspec": {
   "display_name": "cs152",
   "language": "python",
   "name": "python3"
  },
  "language_info": {
   "codemirror_mode": {
    "name": "ipython",
    "version": 3
   },
   "file_extension": ".py",
   "mimetype": "text/x-python",
   "name": "python",
   "nbconvert_exporter": "python",
   "pygments_lexer": "ipython3",
   "version": "3.13.2"
  }
 },
 "nbformat": 4,
 "nbformat_minor": 2
}
